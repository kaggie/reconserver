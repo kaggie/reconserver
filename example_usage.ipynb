{
 "cells": [
  {
   "cell_type": "markdown",
   "metadata": {},
   "source": [
    "# Programmatic Interaction with Recon Server\n",
    "\n",
    "This notebook demonstrates how to interact with the `server_app.py` programmatically using the `ReconClientApp` class from `client_app.py`.\n",
    "\n",
    "**Prerequisites:**\n",
    "1.  The Recon server (`server_app.py`) should be running.\n",
    "2.  A `recon.opts` file must be configured in the root directory of this project, with at least the `SERVER_HOSTNAME`, `SERVER_PORT`, and `SHARED_KEY` correctly set to match the server's configuration. The `SHARED_KEY` must be identical to the one used by the server.\n",
    "\n",
    "**Key operations covered:**\n",
    "*   Setting up dummy input files.\n",
    "*   Initializing the `ReconClientApp`.\n",
    "*   Connecting to and disconnecting from the server.\n",
    "*   Submitting a reconstruction job.\n",
    "*   Querying the server's status.\n",
    "*   Viewing the current job queue on the server."
   ]
  },
  {
   "cell_type": "markdown",
   "metadata": {},
   "source": [
    "## 1. Setup and Configuration"
   ]
  },
  {
   "cell_type": "code",
   "execution_count": null,
   "metadata": {},
   "outputs": [],
   "source": [
    "import os\n",
    "import json\n",
    "\n",
    "# Define paths for dummy input files\n",
    "dummy_files_dir = \"dummy_input_files\"\n",
    "os.makedirs(dummy_files_dir, exist_ok=True)\n",
    "\n",
    "dummy_file1_path = os.path.join(dummy_files_dir, \"P_dummy1.7\")\n",
    "dummy_file2_path = os.path.join(dummy_files_dir, \"calibration_dummy.dat\")\n",
    "\n",
    "# Create dummy input files\n",
    "with open(dummy_file1_path, 'w') as f:\n",
    "    f.write(\"This is a dummy PFILE for testing. Actual PFILEs are binary.\")\n",
    "\n",
    "with open(dummy_file2_path, 'w') as f:\n",
    "    f.write(\"This is a dummy calibration file.\")\n",
    "\n",
    "print(f\"Created dummy file: {dummy_file1_path}\")\n",
    "print(f\"Created dummy file: {dummy_file2_path}\")\n",
    "\n",
    "# Example reconstruction options\n",
    "recon_options_example = {\n",
    "    \"pyscript_name\": \"slicerecon\", # Example: if server has a Python script 'slicerecon.py'\n",
    "    \"num_slices\": 128,\n",
    "    \"custom_param\": \"value_example\"\n",
    "}\n",
    "print(f\"Example recon options: {json.dumps(recon_options_example)}\")"
   ]
  },
  {
   "cell_type": "markdown",
   "metadata": {},
   "source": [
    "## 2. Importing Client Logic\n",
    "\n",
    "We'll import the `ReconClientApp` from `client_app.py` and `readoptions` from `reconlibs.py`. Ensure this notebook is run from the root of the project so that these modules are found."
   ]
  },
  {
   "cell_type": "code",
   "execution_count": null,
   "metadata": {},
   "outputs": [],
   "source": [
    "import sys\n",
    "# Ensure the project root is in the Python path\n",
    "project_root = os.path.abspath(\".\") # Assumes notebook is in project root\n",
    "if project_root not in sys.path:\n",
    "    sys.path.insert(0, project_root)\n",
    "\n",
    "try:\n",
    "    from client_app import ReconClientApp\n",
    "    from reconlibs import readoptions\n",
    "    print(\"Successfully imported ReconClientApp and readoptions.\")\n",
    "except ImportError as e:\n",
    "    print(f\"Error importing modules: {e}\\nEnsure the server components are in the PYTHONPATH or run this notebook from the project root directory.\")"
   ]
  },
  {
   "cell_type": "markdown",
   "metadata": {},
   "source": [
    "## 3. Initializing the Client\n",
    "\n",
    "We initialize `ReconClientApp` by providing the path to the `recon.opts` configuration file. The client will load its connection settings (server hostname, port, shared key) from this file."
   ]
  },
  {
   "cell_type": "code",
   "execution_count": null,
   "metadata": {},
   "outputs": [],
   "source": [
    "options_file = \"recon.opts\"\n",
    "\n",
    "# Check if recon.opts exists, create a default if not (for notebook convenience, user should verify it)\n",
    "if not os.path.exists(options_file):\n",
    "    print(f\"'{options_file}' not found. Attempting to create a default one.\")\n",
    "    try:\n",
    "        default_config = readoptions(options_file) # This will create and load defaults\n",
    "        print(f\"Default '{options_file}' created. Please ensure SERVER_HOSTNAME, SERVER_PORT, and especially SHARED_KEY are correctly set to match your server.\")\n",
    "        if default_config.get('SHARED_KEY') == 'SET_YOUR_SHARED_KEY_HERE':\n",
    "             print(\"CRITICAL: The SHARED_KEY in the default recon.opts is a placeholder. You MUST change it!\")\n",
    "    except Exception as e:\n",
    "        print(f\"Error creating default '{options_file}': {e}. Please create it manually.\")\n",
    "else:\n",
    "    print(f\"Using existing '{options_file}'.\")\n",
    "\n",
    "client = ReconClientApp(options_file=options_file)\n",
    "print(\"ReconClientApp initialized.\")"
   ]
  },
  {
   "cell_type": "markdown",
   "metadata": {},
   "source": [
    "## 4. Demonstrating Client Actions\n",
    "\n",
    "The `ReconClientApp` has been refactored to provide separate methods for connecting, submitting jobs, querying status, and disconnecting. This allows for more granular programmatic control."
   ]
  },
  {
   "cell_type": "markdown",
   "metadata": {},
   "source": [
    "### 4.1 Connect to Server"
   ]
  },
  {
   "cell_type": "code",
   "execution_count": null,
   "metadata": {},
   "outputs": [],
   "source": [
    "if client.connect():\n",
    "    print(\"Successfully connected to the server.\")\n",
    "else:\n",
    "    print(\"Failed to connect to the server. Ensure the server is running and recon.opts is correct.\")"
   ]
  },
  {
   "cell_type": "markdown",
   "metadata": {},
   "source": [
    "### 4.2 Submit a Job\n",
    "\n",
    "We'll submit the dummy files created earlier with the example reconstruction options. The server should respond with a Job ID if the submission is successful."
   ]
  },
  {
   "cell_type": "code",
   "execution_count": null,
   "metadata": {},
   "outputs": [],
   "source": [
    "job_id = None\n",
    "if client.sf_client and client.sf_client.is_connected():\n",
    "    files_to_submit = [dummy_file1_path, dummy_file2_path]\n",
    "    job_id = client.submit_recon_job(files_to_process=files_to_submit, recon_options=recon_options_example)\n",
    "    if job_id:\n",
    "        print(f\"Job submitted successfully! Job ID: {job_id}\")\n",
    "    else:\n",
    "        print(\"Job submission failed.\")\n",
    "else:\n",
    "    print(\"Not connected to server. Cannot submit job.\")"
   ]
  },
  {
   "cell_type": "markdown",
   "metadata": {},
   "source": [
    "### 4.3 Check Server Status\n",
    "\n",
    "This requests general status information from the server."
   ]
  },
  {
   "cell_type": "code",
   "execution_count": null,
   "metadata": {},
   "outputs": [],
   "source": [
    "if client.sf_client and client.sf_client.is_connected():\n",
    "    status_info = client.get_server_status()\n",
    "    if status_info:\n",
    "        print(\"\\n--- Server Status ---\")\n",
    "        for key, value in status_info.items():\n",
    "            # Prettify the key for display\n",
    "            display_key = key.replace('_', ' ').title()\n",
    "            print(f\"{display_key}: {value}\")\n",
    "        print(\"---------------------\\n\")\n",
    "    else:\n",
    "        print(\"Failed to retrieve server status.\")\n",
    "else:\n",
    "    print(\"Not connected to server.\")"
   ]
  },
  {
   "cell_type": "markdown",
   "metadata": {},
   "source": [
    "### 4.4 View Job Queue\n",
    "\n",
    "This requests the list of jobs currently in the server's queue."
   ]
  },
  {
   "cell_type": "code",
   "execution_count": null,
   "metadata": {},
   "outputs": [],
   "source": [
    "if client.sf_client and client.sf_client.is_connected():\n",
    "    queue_details = client.get_queue_details()\n",
    "    if queue_details and 'jobs' in queue_details:\n",
    "        print(\"\\n--- Job Queue ---\")\n",
    "        if queue_details['jobs']:\n",
    "            for job_info in queue_details['jobs']:\n",
    "                print(f\"  Job ID: {job_info.get('job_id')}\")\n",
    "                print(f\"    Status: {job_info.get('status')}\")\n",
    "                print(f\"    Primary File: {job_info.get('primary_input_file_name')}\")\n",
    "                print(f\"    Num Files: {job_info.get('num_input_files')}\")\n",
    "                print(f\"    Submitted: {job_info.get('submitted_at_utc')}\")\n",
    "                print(f\"    Server Dir Basename: {job_info.get('job_input_dir_basename')}\")\n",
    "                print(\"    \" + \"-\"*15)\n",
    "        else:\n",
    "            print(\"Queue is empty.\")\n",
    "        print(f\"Total jobs in queue: {queue_details.get('count', 0)}\")\n",
    "        print(\"-----------------\n\")\n",
    "    else:\n",
    "        print(\"Failed to retrieve job queue details.\")\n",
    "else:\n",
    "    print(\"Not connected to server.\")"
   ]
  },
  {
   "cell_type": "markdown",
   "metadata": {},
   "source": [
    "### 4.5 Disconnect from Server"
   ]
  },
  {
   "cell_type": "code",
   "execution_count": null,
   "metadata": {},
   "outputs": [],
   "source": [
    "client.disconnect()\n",
    "print(\"Disconnected from server (if previously connected).\")"
   ]
  },
  {
   "cell_type": "markdown",
   "metadata": {},
   "source": [
    "## 5. Result Handling (Conceptual)\n",
    "\n",
    "The `ReconClientApp` methods demonstrated above (`submit_recon_job`, `get_server_status`, `get_queue_details`) are for specific, targeted interactions.\n",
    "\n",
    "For a full job cycle including the download of results, the `client_app.py` script uses a method like `run_full_job_cycle` (which internally calls `submit_recon_job` and then `process_job_and_get_results`). \n",
    "\n",
    "The `process_job_and_get_results(job_id)` method would typically:\n",
    "1.  Listen for server messages related to the given `job_id`.\n",
    "2.  Handle `dicom_transfer_start` commands by acknowledging readiness.\n",
    "3.  Receive files sent by the server (e.g., DICOMs) using its internal `SecureFileTransferClient.receive_data()` method, saving them to the directory specified by `CLIENT_DOWNLOAD_DIR` in `recon.opts`.\n",
    "4.  Wait for a `recon_complete` or `job_failed` message from the server.\n",
    "\n",
    "To demonstrate this full cycle programmatically using the refactored client, you would call `client.run_full_job_cycle(files_to_process, recon_options)` or sequentially use `connect()`, `submit_recon_job()`, `process_job_and_get_results()`, and `disconnect()`.\n",
    "\n",
    "Example of how one might use `process_job_and_get_results` (after submitting a job and getting a `job_id`):\n",
    "```python\n",
    "# Assuming client is connected and job_id was obtained from submit_recon_job\n",
    "# if job_id:\n",
    "#     print(f\"Waiting for job {job_id} to complete and receive results...\")\n",
    "#     if client.process_job_and_get_results(job_id):\n",
    "#         print(f\"Job {job_id} completed and results (if any) should be in '{client.client_download_dir}'.\")\n",
    "#     else:\n",
    "#         print(f\"Job {job_id} failed or results could not be processed.\")\n",
    "```\n",
    "Running the cell above would require the server to actually process the job and send back results, which depends on the server's `RECON_SCRIPT_PATH` being functional for the dummy files."
   ]
  },
  {
   "cell_type": "markdown",
   "metadata": {},
   "source": [
    "## 6. Conclusion\n",
    "\n",
    "This notebook has shown how to use the refactored `ReconClientApp` to programmatically connect to the Recon server, submit jobs, and query server/queue status. For more complex interactions or full job cycles including result downloads, the `run_full_job_cycle` method or a combination of the demonstrated methods can be used."
   ]
  }
 ],
 "metadata": {
  "kernelspec": {
   "display_name": "Python 3",
   "language": "python",
   "name": "python3"
  },
  "language_info": {
   "codemirror_mode": {
    "name": "ipython",
    "version": 3
   },
   "file_extension": ".py",
   "mimetype": "text/x-python",
   "name": "python",
   "nbconvert_exporter": "python",
   "pygments_lexer": "ipython3",
   "version": "3.10.12"
  }
 },
 "nbformat": 4,
 "nbformat_minor": 2
}
